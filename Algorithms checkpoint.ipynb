{
 "cells": [
  {
   "cell_type": "code",
   "execution_count": 1,
   "id": "774fb0d6",
   "metadata": {},
   "outputs": [
    {
     "name": "stdout",
     "output_type": "stream",
     "text": [
      "False\n",
      "True\n"
     ]
    }
   ],
   "source": [
    "# Question 1\n",
    "# Write a Python program for a binary search.\n",
    "# Test Data: \n",
    "\n",
    "# binary_search([1,2,3,5,8], 6) -> False\n",
    "# binary_search([1,2,3,5,8], 5) -> True\n",
    "\n",
    "def binary_search(item_list,item):\n",
    "    first = 0\n",
    "    last = len(item_list)-1\n",
    "    found = False\n",
    "    while( first<=last and not found):\n",
    "        mid = (first + last)//2\n",
    "        if item_list[mid] == item :\n",
    "            found = True\n",
    "        else:\n",
    "            if item < item_list[mid]:\n",
    "                last = mid - 1\n",
    "            else:\n",
    "                first = mid + 1\n",
    "    return found\n",
    "\n",
    "print(binary_search([1,2,3,5,8], 6))\n",
    "print(binary_search([1,2,3,5,8], 5))\n",
    "\n",
    "\n",
    "\n"
   ]
  },
  {
   "cell_type": "code",
   "execution_count": 2,
   "id": "0c2e18c0",
   "metadata": {},
   "outputs": [
    {
     "name": "stdout",
     "output_type": "stream",
     "text": [
      "81\n"
     ]
    }
   ],
   "source": [
    "# Question 2.\n",
    "# Write a Python program to calculate the value of 'a' to the power 'b'.\n",
    "\n",
    "# Test Data: \n",
    "\n",
    "# (power(3,4) -> 81\n",
    "\n",
    "def power(a,b):\n",
    "    if b==0:\n",
    "        return 1\n",
    "    elif a==0:\n",
    "        return 0\n",
    "    elif b==1:\n",
    "        return a\n",
    "    else:\n",
    "        return a*power(a,b-1)\n",
    "\n",
    "print(power(3,4))\n"
   ]
  },
  {
   "cell_type": "code",
   "execution_count": 5,
   "id": "4141d82b",
   "metadata": {},
   "outputs": [
    {
     "name": "stdout",
     "output_type": "stream",
     "text": [
      "Sorted array is:\n",
      " 13  22  29  37  46  49  52  56  71 "
     ]
    }
   ],
   "source": [
    "# Question 3\n",
    "\n",
    "# Write a Python program to sort a list of elements using the bubble sort algorithm.\n",
    "\n",
    "# Sample Data: [29,13,22,37,52,49,46,71,56]\n",
    "\n",
    "# Expected result: [13, 22, 29, 37, 42, 46, 49, 56, 71]\n",
    "\n",
    "\n",
    "def bubbleSort(arr):\n",
    "    n = len(arr)\n",
    " \n",
    "   \n",
    "    for i in range(n-1):\n",
    "    \n",
    "        \n",
    "        for j in range(0, n-i-1):\n",
    " \n",
    "            \n",
    "            if arr[j] > arr[j + 1] :\n",
    "                arr[j], arr[j + 1] = arr[j + 1], arr[j]\n",
    " \n",
    "\n",
    "arr = [29,13,22,37,52,49,46,71,56]\n",
    " \n",
    "bubbleSort(arr)\n",
    " \n",
    "print (\"Sorted array is:\")\n",
    "for i in range(len(arr)):\n",
    "    print (\"% d\" % arr[i],end=\" \")\n"
   ]
  },
  {
   "cell_type": "code",
   "execution_count": 7,
   "id": "e99179b5",
   "metadata": {},
   "outputs": [
    {
     "name": "stdout",
     "output_type": "stream",
     "text": [
      "Given array is\n",
      "29 13 22 37 52 49 46 71 56 \n",
      "Sorted array is: \n",
      "13 22 29 37 46 49 52 56 71 \n"
     ]
    }
   ],
   "source": [
    "# Question 4.\n",
    "# Write a Python program to sort a list of elements using the merge sort algorithm.\n",
    "# Sample Data: [29,13,22,37,52,49,46,71,56]\n",
    "# Expected result: [13, 22, 29, 37, 42, 46, 49, 56, 71]\n",
    "\n",
    "def mergeSort(arr):\n",
    "    if len(arr) > 1:\n",
    "  \n",
    "         \n",
    "        mid = len(arr)//2\n",
    "                 \n",
    "        L = arr[:mid]\n",
    "          \n",
    "        R = arr[mid:]\n",
    "  \n",
    "        mergeSort(L)\n",
    "  \n",
    "        mergeSort(R)\n",
    "  \n",
    "        i = j = k = 0\n",
    "  \n",
    "        while i < len(L) and j < len(R):\n",
    "            if L[i] < R[j]:\n",
    "                arr[k] = L[i]\n",
    "                i += 1\n",
    "            else:\n",
    "                arr[k] = R[j]\n",
    "                j += 1\n",
    "            k += 1\n",
    "  \n",
    "        \n",
    "        while i < len(L):\n",
    "            arr[k] = L[i]\n",
    "            i += 1\n",
    "            k += 1\n",
    "  \n",
    "        while j < len(R):\n",
    "            arr[k] = R[j]\n",
    "            j += 1\n",
    "            k += 1\n",
    "  \n",
    "    \n",
    "def printList(arr):\n",
    "    for i in range(len(arr)):\n",
    "        print(arr[i], end=\" \")\n",
    "    print()\n",
    "  \n",
    "  \n",
    "if __name__ == '__main__':\n",
    "    arr = [29,13,22,37,52,49,46,71,56]\n",
    "    print(\"Given array is\", end=\"\\n\")\n",
    "    printList(arr)\n",
    "    mergeSort(arr)\n",
    "    print(\"Sorted array is: \", end=\"\\n\")\n",
    "    printList(arr)"
   ]
  },
  {
   "cell_type": "code",
   "execution_count": 16,
   "id": "6c7dd5f0",
   "metadata": {},
   "outputs": [
    {
     "name": "stdout",
     "output_type": "stream",
     "text": [
      "Sorted array: [13, 22, 29, 37, 46, 49, 52, 56, 71]\n"
     ]
    }
   ],
   "source": [
    "# Question 5 \n",
    "# Write a Python program to sort a list of elements using the quick sort algorithm.\n",
    "\n",
    "# Sample Data: [29,13,22,37,52,49,46,71,56]\n",
    "\n",
    "# result: [13, 22, 29, 37, 42, 46, 49, 56, 71]\n",
    "\n",
    "\n",
    "def partition(array, low, high):\n",
    " \n",
    "  \n",
    "  pivot = array[high]\n",
    " \n",
    " \n",
    "  i = low - 1\n",
    " \n",
    "  for j in range(low, high):\n",
    "    if array[j] <= pivot:\n",
    "      \n",
    "      i = i + 1\n",
    " \n",
    "      (array[i], array[j]) = (array[j], array[i])\n",
    " \n",
    "  \n",
    "  (array[i + 1], array[high]) = (array[high], array[i + 1])\n",
    " \n",
    "  \n",
    "  return i + 1\n",
    " \n",
    "\n",
    "def quick_sort(array, low, high):\n",
    "  if low < high:\n",
    " \n",
    "    pi = partition(array, low, high)\n",
    "     \n",
    "    quick_sort(array, low, pi - 1)\n",
    "     \n",
    "    quick_sort(array, pi + 1, high)\n",
    " \n",
    "           \n",
    "\n",
    "array = [29,13,22,37,52,49,46,71,56 ]\n",
    "quick_sort(array, 0, len(array) - 1)\n",
    " \n",
    "print(f'Sorted array: {array}')"
   ]
  },
  {
   "cell_type": "code",
   "execution_count": null,
   "id": "b8bf8b67",
   "metadata": {},
   "outputs": [],
   "source": []
  },
  {
   "cell_type": "code",
   "execution_count": null,
   "id": "47d00dab",
   "metadata": {},
   "outputs": [],
   "source": []
  }
 ],
 "metadata": {
  "kernelspec": {
   "display_name": "Python 3 (ipykernel)",
   "language": "python",
   "name": "python3"
  },
  "language_info": {
   "codemirror_mode": {
    "name": "ipython",
    "version": 3
   },
   "file_extension": ".py",
   "mimetype": "text/x-python",
   "name": "python",
   "nbconvert_exporter": "python",
   "pygments_lexer": "ipython3",
   "version": "3.9.7"
  }
 },
 "nbformat": 4,
 "nbformat_minor": 5
}
